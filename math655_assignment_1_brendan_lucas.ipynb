{
 "cells": [
  {
   "cell_type": "markdown",
   "id": "0f4f2335-8238-4963-8b63-dc8347c3dc5f",
   "metadata": {},
   "source": [
    "# MATH 655 - StatML\n",
    "# Assignment 1\n",
    "## Brendan Lucas\n",
    "## 18 September 2023"
   ]
  },
  {
   "cell_type": "markdown",
   "id": "64d8a39e-181e-43da-a1f9-ea88ea2b7d64",
   "metadata": {},
   "source": [
    "### Question 1\n",
    "\n",
    "Let $x_i$ and $y_i$ be real values samples from random variables $X$ and $Y$ and let $\\bar{x}$ and $\\bar{y}$ be the sample means. Show that\n",
    "1. $\\sum_{i=1}^n (x_i - \\bar{x}) = 0$.\n",
    "2. $\\sum_{i=1}^n (x_i - \\bar{x})(y_i - \\bar{y}) = \\sum_{i=1}^n (x_i - \\bar{x})y_i$."
   ]
  },
  {
   "cell_type": "markdown",
   "id": "96ce7f82-46a3-429b-b7e7-08926954876c",
   "metadata": {},
   "source": [
    "#### 1.1\n",
    "\n",
    "Show $\\sum_{i=1}^{n} (x_i - \\bar{x})$\n",
    "1. $\\bar{x} = \\frac{1}{n} \\sum_{i=1}^{n}x_i$\n",
    "2. $\\sum_{i=1}^{n} x_i = n\\bar{x}$\n",
    "3. $\\sum_{i=1}^{n} \\bar{x} = n\\bar{x}$\n",
    "4. $\\sum_{i=1}^{n} (x_i - \\bar{x}) = \\sum_{i=1}^{n} x_i - \\sum_{i=1}^{n} \\bar{x}$\n",
    "5. $\\sum_{i=1}^{n} (x_i - \\bar{x}) = n\\bar{x} - n\\bar{x}$\n",
    "6. $\\sum_{i=1}^{n}(x_i - \\bar{x}) = 0$ Q.E.D.\n"
   ]
  },
  {
   "cell_type": "code",
   "execution_count": 1,
   "id": "661bd444-34e9-4d88-b88a-943dcfea6ddd",
   "metadata": {},
   "outputs": [
    {
     "name": "stdout",
     "output_type": "stream",
     "text": [
      "q1_1 computes\n"
     ]
    }
   ],
   "source": [
    "#to demonstrate numerically the result in question 1.1\n",
    "import numpy as np #this is a module that will help us create arrays\n",
    "import random  #this is a module that will help us generate random numbers\n",
    "\n",
    "def q1_1(): #this function shows that the sum of the differences in the variable from its mean is zero\n",
    "    #now we will create a 1d vector array with random numbers using numpy\n",
    "    x = np.random.randint(0, 1, 100)\n",
    "    #we will average the numbers in the array\n",
    "    x_bar = np.average(x)\n",
    "    #calculate the difference as described in the assignment\n",
    "    diff = np.sum(x - x_bar)\n",
    "    if (diff != 0):\n",
    "        print(\"q1_1 does not compute\")\n",
    "    else:\n",
    "        print(\"q1_1 computes\")\n",
    "q1_1()"
   ]
  },
  {
   "cell_type": "markdown",
   "id": "024c58cf-0985-416b-a894-fe50457d58f7",
   "metadata": {},
   "source": [
    "#### 1.2\n",
    "Show: $\\sum_{i=1}^{n} (x_i - \\bar{x})(y_i - \\bar{y}) = \\sum_{i=1}^{n} (x_i - \\bar{x})y_i$\n",
    "\n",
    "1. $\\sum_{i=1}^{n} (x_i - \\bar{x})(y_i - \\bar{y}) = \\sum_{i=1}^{n} (x_i (y_i - \\bar{y}) - \\sum_{i=1}^{n} (\\bar{x}(y_i-\\bar{y}))$\n",
    "2. $\\sum_{i=1}^{n} (x_i - \\bar{x})(y_i - \\bar{y}) = \\sum_{i=1}^{n} x_i y_i - \\sum_{i=1}^{n} x_i \\bar{y} - \\sum_{i=1}^{n} \\bar{x} y_i + \\sum_{i=1}^{n} \\bar{x} \\bar{y}$\n",
    "3. $\\sum_{i=1}^{n} x_i \\bar{y} = \\bar{y} \\sum_{i=1}^{n} x_i = n \\bar{x} \\bar{y}$\n",
    "4. $\\sum_{i=1}^{n} \\bar{x} \\bar{y} = n \\bar{x} \\bar{y}$\n",
    "5. $\\sum_{i=1}^{n}x_i y_i - \\sum_{i=1}^{n}\\bar{x} y_i = \\sum_{i=1}^{n} (x_i - \\bar{x})y_i$\n",
    "6. $\\sum_{i=1}^{n} (x_i - \\bar{x})(y_i - \\bar{y}) = \\sum_{i=1}^{n} (x_i - \\bar{x})y_i - n\\bar{x}\\bar{y} + n\\bar{x}\\bar{y}$\n",
    "7. $\\sum_{i=1}^{n} (x_i - \\bar{x})(y_i - \\bar{y}) = \\sum_{i=1}^{n} (x_i - \\bar{x})y_i$ Q.E.D.\n"
   ]
  },
  {
   "cell_type": "code",
   "execution_count": 2,
   "id": "29c490d7-0673-4eb1-bfed-b5e1dd60626e",
   "metadata": {},
   "outputs": [
    {
     "name": "stdout",
     "output_type": "stream",
     "text": [
      "q1_2 computes\n"
     ]
    }
   ],
   "source": [
    "def q1_2(): #to demonstrate numerically the result in question 1.2\n",
    "    x = np.random.randint(0, 1, 100)\n",
    "    y = np.random.randint(0, 1, 100)\n",
    "    x_bar = np.average(x)\n",
    "    y_bar = np.average(y)\n",
    "\n",
    "    sumxy1 = np.sum((x - x_bar) * (y - y_bar))\n",
    "    sumxy2 = np.sum((x - x_bar) * y)\n",
    "\n",
    "    if (sumxy1 != sumxy2):\n",
    "        print(\"q1_2 does not compute\")\n",
    "    else:\n",
    "        print(\"q1_2 computes\")\n",
    "q1_2()"
   ]
  },
  {
   "cell_type": "markdown",
   "id": "b12889ad-329b-4200-baea-7853b8f3f894",
   "metadata": {},
   "source": [
    "### Question 2\n",
    "\n",
    "Let $\\mathbf{b}$ be a constant vector and let $x$ be a variable in $\\mathbb{R}^n$. Let $A$ be a $n \\times n$ symmetric matrix. Show that:\n",
    "1. $\\nabla_x \\mathbf{b}^T x = \\mathbf{b}$.\n",
    "2. $\\nabla_x \\mathbf{x}^T b = \\mathbf{b}$.\n",
    "3. $\\nabla_x \\mathbf{x}^T A \\mathbf{x} = 2 A \\mathbf{x}$"
   ]
  },
  {
   "cell_type": "markdown",
   "id": "47027b23",
   "metadata": {},
   "source": [
    "**2.1**\n",
    "Show: $\\nabla_x \\mathbf{b}^T x = \\mathbf{b}$.\n",
    "1. $\\mathbf{b} = \\sum_{i=1}^{n} \\mathbf{b_i}$, where $\\mathbf{b_i}$ is an orthogonal basis\n",
    "2. $\\mathbf{x} = \\sum_{i=1}^{n} \\mathbf{x_i}$\n",
    "3. $\\nabla_x = \\begin{bmatrix}\n",
    "    \\frac{\\partial}{\\partial x_1} \\\\\n",
    "    \\frac{\\partial}{\\partial x_2}\\\\\n",
    "     ... \\\\\n",
    "    \\frac{\\partial}{\\partial x_n} \\\\\n",
    "\\end{bmatrix}$\n",
    "4. $\\mathbf{b}^T \\mathbf{x} = \\sum_{i=1}^{n} b_i x_i $\n",
    "5. $\\nabla_x \\mathbf{b}^T \\mathbf{x} = \\begin{bmatrix}\n",
    "    \\frac{\\partial}{\\partial x_1} \\\\\n",
    "    \\frac{\\partial}{\\partial x_2}\\\\\n",
    "     ... \\\\\n",
    "    \\frac{\\partial}{\\partial x_n} \\\\\n",
    "\\end{bmatrix} \\times \\sum_{i=1}^{n} b_i x_i $\n",
    "6. $\\nabla_x \\mathbf{b}^T \\mathbf{x} = \\begin{bmatrix}\n",
    "    \\frac{\\partial}{\\partial x_1} \\sum_{i=1}^{n} b_i x_i \\\\\n",
    "    \\frac{\\partial}{\\partial x_2} \\sum_{i=1}^{n} b_i x_i \\\\\n",
    "     ... \\\\\n",
    "    \\frac{\\partial}{\\partial x_n} \\sum_{i=1}^{n} b_i x_i \\\\\n",
    "\\end{bmatrix} = \\begin{bmatrix}\n",
    "    b_1 \\\\\n",
    "    b_2 \\\\\n",
    "    ... \\\\\n",
    "    b_n \\\\\n",
    "\\end{bmatrix}$\n",
    "7. $\\nabla_x \\mathbf{b}^T x = \\mathbf{b}$ Q.E.D."
   ]
  },
  {
   "cell_type": "code",
   "execution_count": 3,
   "id": "14946ddd",
   "metadata": {},
   "outputs": [
    {
     "name": "stdout",
     "output_type": "stream",
     "text": [
      "q2_1 computes\n"
     ]
    }
   ],
   "source": [
    "#to demonstrate the result in question 2.1\n",
    "import sympy as sp #symbolic computation to take gradient\n",
    "\n",
    "def q2_1():\n",
    "    #1. $\\nabla_x \\mathbf{b}^T \\mathbf{x} = \\mathbf{b}$.\n",
    "    b = np.array([1,2,3])\n",
    "    x = sp.symbols('x0:3') # x0, x1, x2 (this is a tuple)\n",
    "    bTx = b.T.dot(x) #takes the dotproduct of vector b and x\n",
    "\n",
    "    #sympy takes the partial derivatives symbolically\n",
    "    grad_bTx = np.array([sp.diff(bTx, 'x0'), sp.diff(bTx, 'x1'), sp.diff(bTx, 'x2')])\n",
    "\n",
    "    if(np.array_equal(grad_bTx, b)): #test for equality between the expressions\n",
    "        print(\"q2_1 computes\")\n",
    "    else:\n",
    "        print(\"q2_1 does not compute\")\n",
    "q2_1()"
   ]
  },
  {
   "cell_type": "markdown",
   "id": "2fe51a5c",
   "metadata": {},
   "source": [
    "**2.2**\n",
    "Show: $\\nabla_x \\mathbf{x}^T \\mathbf{b} = \\mathbf{b}$\n",
    "1. $\\mathbf{x}^T \\mathbf{b} = \\sum_{i=1}^n x_i b_i = \\sum_{i=1}^n b_i x_i$\n",
    "2. $\\nabla_x \\mathbf{x}^T \\mathbf{b} = \\nabla_x \\sum_{i=1}^n x_i b_i = \\nabla_x \\sum_{i=1}^n b_i x_i = \\nabla_x \\mathbf{b}^T x$\n",
    "3. $\\nabla_x \\mathbf{x}^T \\mathbf{b} = \\nabla_x \\mathbf{b}^T x = \\mathbf{b}$\n",
    "4. $\\nabla_x \\mathbf{x}^T \\mathbf{b} = \\mathbf{b}$ Q.E.D."
   ]
  },
  {
   "cell_type": "code",
   "execution_count": 4,
   "id": "d33e6552",
   "metadata": {},
   "outputs": [
    {
     "name": "stdout",
     "output_type": "stream",
     "text": [
      "q2_2 computes\n"
     ]
    }
   ],
   "source": [
    "#to demonstrate the result in question 2.2\n",
    "def q2_2():\n",
    "    #2. $\\nabla_x \\mathbf{x}^T \\mathbf{b} = \\mathbf{b}$.\n",
    "    b = np.array([1,2,3])\n",
    "    x_s = sp.symbols('x0:3') # x0, x1, x2 (this is a tuple)\n",
    "    x_v = np.array(x_s) #makes the x_s tuple into an array\n",
    "    xTb = x_v.T.dot(b)\n",
    "\n",
    "    #sympy takes the partial derivatives symbolically\n",
    "    grad_xTb = np.array([sp.diff(xTb, 'x0'), sp.diff(xTb, 'x1'), sp.diff(xTb, 'x2')])\n",
    "\n",
    "    if(np.array_equal(grad_xTb, b)): #test for equality between the expressions\n",
    "        print(\"q2_2 computes\")\n",
    "    else:\n",
    "        print(\"q2_2 does not compute\")\n",
    "q2_2()"
   ]
  },
  {
   "cell_type": "markdown",
   "id": "46024bd1",
   "metadata": {},
   "source": [
    "**2.3**\n",
    "show:\n",
    "$\\nabla_x \\mathbf{x}^T A \\mathbf{x} = 2 A \\mathbf{x}$\n",
    "\n",
    "1. $\\mathbf{c} = A \\mathbf{x} = \\begin{bmatrix}\n",
    "    x_1 \\sum_{i=1}^{n} A_{1i} \\\\\n",
    "    x_2 \\sum_{i=1}^{n} A_{2i} \\\\\n",
    "    ... \\\\\n",
    "    x_n \\sum_{i=1}^{n} A_{ni} \\\\\n",
    "\\end{bmatrix}$\n",
    "2. $\\nabla_x \\mathbf{x}^T A \\mathbf{x} = \\nabla_x \\mathbf{x}^T \\mathbf{c} = \\nabla_x \\sum_{i=1}^n x_i c_i = \\nabla_x \\sum_{i=1}^n [{x_i}^2 ( \\sum_{j=1}^n A_{ij})]$\n",
    "3. $\\nabla_x \\mathbf{x}^T A \\mathbf{x} = \\begin{bmatrix}\n",
    "    \\frac{\\partial}{\\partial x_1} \\\\\n",
    "    \\frac{\\partial}{\\partial x_2}\\\\\n",
    "     ... \\\\\n",
    "    \\frac{\\partial}{\\partial x_n} \\\\\n",
    "\\end{bmatrix} \\sum_{i=1}^n [{x_i}^2 ( \\sum_{j=1}^n A_{ij})] = 2 \\begin{bmatrix}\n",
    "    x_1 \\sum_{i=1}^{n} A_{1i} \\\\\n",
    "    x_2 \\sum_{i=1}^{n} A_{2i} \\\\\n",
    "    ... \\\\\n",
    "    x_n \\sum_{i=1}^{n} A_{ni} \\\\\n",
    "\\end{bmatrix} = 2 \\mathbf{c} = 2 A \\mathbf{x}$\n",
    "4. $\\nabla_x \\mathbf{x}^T A \\mathbf{x} = 2 A \\mathbf{x}$ Q.E.D."
   ]
  },
  {
   "cell_type": "code",
   "execution_count": 5,
   "id": "ff6d9532",
   "metadata": {},
   "outputs": [
    {
     "name": "stdout",
     "output_type": "stream",
     "text": [
      "q2_3 computes\n"
     ]
    }
   ],
   "source": [
    "#to demonstrate the result in question 2.3\n",
    "def q2_3():\n",
    "    #3. $\\nabla_x \\mathbf{x}^T A \\mathbf{x} = 2 A \\mathbf{x}$\n",
    "    x = np.array(sp.symbols('x0:3'))\n",
    "    A = np.array([[1, 1, 1], [1, 2, 1], [1, 1, 1]])\n",
    "\n",
    "    xTAx = x.T.dot(np.dot(A, x)) #.dot can do matrix multiplication\n",
    "    grad_xTAx = np.array([sp.diff(xTAx, 'x0'), sp.diff(xTAx, 'x1'), sp.diff(xTAx, 'x2')])\n",
    "    twoAx = 2 * np.dot(A, x)\n",
    "\n",
    "    #note: q2_3 does not computer if A is non-symmetric\n",
    "    if(np.array_equal(grad_xTAx, twoAx)):\n",
    "        print(\"q2_3 computes\")\n",
    "    else:\n",
    "        print(\"q2_3 does not compute\")\n",
    "q2_3()"
   ]
  }
 ],
 "metadata": {
  "kernelspec": {
   "display_name": "Python 3 (ipykernel)",
   "language": "python",
   "name": "python3"
  },
  "language_info": {
   "codemirror_mode": {
    "name": "ipython",
    "version": 3
   },
   "file_extension": ".py",
   "mimetype": "text/x-python",
   "name": "python",
   "nbconvert_exporter": "python",
   "pygments_lexer": "ipython3",
   "version": "3.11.4"
  }
 },
 "nbformat": 4,
 "nbformat_minor": 5
}
