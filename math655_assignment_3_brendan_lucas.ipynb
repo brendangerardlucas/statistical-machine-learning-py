{
 "cells": [
  {
   "cell_type": "markdown",
   "id": "ba2356eb",
   "metadata": {},
   "source": [
    "*Question 1:* Let $P(X) = \\dfrac{e^{\\beta_0 + \\beta_1 x}}{1 + e^{\\beta_0 + \\beta_1 x}}$ be the logistic function. Show that the **log-odds** or the **logit** which is defined as $\\log \\left(\\dfrac{p(x)}{1 - p(x)} \\right) = \\beta_0 + \\beta_1 x$, i.e, the logit is linear in $\\beta$'s.\n",
    "\n",
    "*Question 2:* Consider a training data $\\{y_i\\}_{i=1}^n$ consisting of a categorical response $y \\in \\{0,1\\}$. Note that the training data contains no predictors. Show that in this case, the intercept parameter in logistic regression is $\\beta_0 = \\log \\left( \\dfrac{\\bar{y}}{1-\\bar{y}} \\right)$. Interpret this in terms of making a prediction for a new data point?\n",
    "\n",
    "*Question 3:* This question involves the use of multiple logistic regression on Default data set. You can ignore the student status variable and focus the analysis on income and balance.\n",
    "\n",
    "1. Use `ggplot()` to produce Box plots for each covariate. Generate a scatter plot of covariates. Interpret the figures. \n",
    "1. Use the `glm()` function to perform a multiple logistic regression with default as the binary response variable. Use the  `summary()` command to print the results. Comment on your findings. \n",
    "1. Use the `predict()` function to perform a prediction on the same training data points. Tabulate the number of correct and incorrect predictions.\n"
   ]
  },
  {
   "cell_type": "markdown",
   "id": "efa31538",
   "metadata": {},
   "source": [
    "*Question 1:* Show that $\\log \\left(\\dfrac{p(x)}{1 - p(x)} \\right) = \\beta_0 + \\beta_1 x$.\n",
    "\n",
    "1. $\\mathrm{logit}(p(x) = \\log{\\frac{p(x)}{1-p(x)}}$\n",
    "1. $p(x) = \\frac{e^{\\beta_0 + \\beta_1 x}}{1 + e^{\\beta_0 + \\beta_1 x}}$\n",
    "1. $\\mathrm{logit}(p(x)) = \\log{\\left(\\frac{\\frac{e^{\\beta_0 + \\beta_1 x}}{1 + e^{\\beta_0 + \\beta_1 x}}}{\\frac{1+ e^{\\beta_0 + \\beta_1 x}}{1 + e^{\\beta_0 + \\beta_1 x}}- \\frac{e^{\\beta_0 + \\beta_1 x}}{1 + e^{\\beta_0 + \\beta_1 x}}}\\right)} = \\log{(e^{\\beta_0 + \\beta_1 x})}$\n",
    "1. $\\mathrm{logit}(p(x)) = \\beta_0 + \\beta_1 x$ Q.E.D."
   ]
  },
  {
   "cell_type": "markdown",
   "id": "63db01a6",
   "metadata": {},
   "source": [
    "*Question 2:* Show that $\\beta_0 = \\log \\left( \\dfrac{\\bar{y}}{1-\\bar{y}} \\right)$.\n",
    "\n",
    "1. With no predictors, $\\beta_0$ is the only parameter, so $p(x) = \\frac{e^{\\beta_0}}{1 + e^{\\beta_0}}$.\n",
    "1. $\\bar{y} = p_1 1 + p_0 0 = p \\times 1 + (1-p)\\times 0 = p \\therefore \\bar{y} = p$\n",
    "1. $1 + e^{-\\beta_0} = \\frac{1}{\\bar{y}} \\therefore \\frac{1-\\bar{y}}{\\bar{y}} = e^{-\\beta_0} \\therefore e^{\\beta_0} = \\frac{\\bar{y}}{1-\\bar{y}} \\therefore \\beta_0 = \\log{\\frac{\\bar{y}}{1-\\bar{y}}}$ Q.E.D.\n",
    "1. $\\beta_0$ represents the log odds of the event $y=1$ because $\\bar{y} = p$. The model uses $\\beta_0$ without additional parameters due to lack of predictors $x_i$. The odds of $y=1$ is as observed in the training data $\\{y_i\\}_{i=1}^n$."
   ]
  },
  {
   "cell_type": "code",
   "execution_count": 1,
   "id": "433733ed",
   "metadata": {
    "scrolled": true
   },
   "outputs": [
    {
     "name": "stdout",
     "output_type": "stream",
     "text": [
      "     default student      balance        income\n",
      "0         No      No   729.526495  44361.625074\n",
      "1         No     Yes   817.180407  12106.134700\n",
      "2         No      No  1073.549164  31767.138947\n",
      "3         No      No   529.250605  35704.493935\n",
      "4         No      No   785.655883  38463.495879\n",
      "...      ...     ...          ...           ...\n",
      "9995      No      No   711.555020  52992.378914\n",
      "9996      No      No   757.962918  19660.721768\n",
      "9997      No      No   845.411989  58636.156984\n",
      "9998      No      No  1569.009053  36669.112365\n",
      "9999      No     Yes   200.922183  16862.952321\n",
      "\n",
      "[10000 rows x 4 columns]\n"
     ]
    },
    {
     "data": {
      "image/png": "[encoded data removed]",
      "text/plain": [
       "<Figure size 1000x500 with 2 Axes>"
      ]
     },
     "metadata": {},
     "output_type": "display_data"
    },
    {
     "name": "stdout",
     "output_type": "stream",
     "text": [
      "     default student      balance        income\n",
      "0         No      No   729.526495  44361.625074\n",
      "1         No     Yes   817.180407  12106.134700\n",
      "2         No      No  1073.549164  31767.138947\n",
      "3         No      No   529.250605  35704.493935\n",
      "4         No      No   785.655883  38463.495879\n",
      "...      ...     ...          ...           ...\n",
      "9995      No      No   711.555020  52992.378914\n",
      "9996      No      No   757.962918  19660.721768\n",
      "9997      No      No   845.411989  58636.156984\n",
      "9998      No      No  1569.009053  36669.112365\n",
      "9999      No     Yes   200.922183  16862.952321\n",
      "\n",
      "[10000 rows x 4 columns]\n",
      "Balance mean:  835.3748856125571\n",
      "Income mean:  33516.981875960504\n"
     ]
    }
   ],
   "source": [
    "#Question 3\n",
    "#This question involves the use of multiple logistic regression on Default data set\n",
    "#3.1: Use `ggplot()` to produce Box plots for each covariate. Generate a scatter plot of covariates. Interpret the figures.\n",
    "#The python equivalent of `ggplot()` is matplotlib\n",
    "from ISLP import load_data\n",
    "\n",
    "import matplotlib.pyplot as plt\n",
    "import seaborn as sns\n",
    "import pandas as pd\n",
    "\n",
    "Default = load_data('Default') #ISLP loads data as a pd dataframe\n",
    "print(Default)\n",
    "\n",
    "fig, axs = plt.subplots(1, 2, figsize=(10, 5))\n",
    "\n",
    "axs[0].boxplot(Default['balance'])\n",
    "axs[0].set_title('Balance')\n",
    "axs[0].set_xticklabels([''])\n",
    "\n",
    "\n",
    "axs[1].boxplot(Default['income'])\n",
    "axs[1].set_title('Income')\n",
    "axs[1].set_xticklabels([''])\n",
    "\n",
    "plt.show()\n",
    "\n",
    "print(Default)\n",
    "print('Balance mean: ', Default['balance'].mean())\n",
    "print('Income mean: ', Default['income'].mean())"
   ]
  },
  {
   "cell_type": "markdown",
   "id": "1c638469",
   "metadata": {},
   "source": [
    "*Question 3.1:* There are many high outliers in the \"Balance\" column, making it a right-skewed distribution. There are far fewer outliers in the \"Income\" column, making it more normally distribution. The mean balance for the students is $\\$835.37$, and the mean income for the students is $\\$33,516.98$."
   ]
  },
  {
   "cell_type": "code",
   "execution_count": 2,
   "id": "22ee5a1a",
   "metadata": {},
   "outputs": [
    {
     "data": {
      "text/html": [
       "<div>\n",
       "<style scoped>\n",
       "    .dataframe tbody tr th:only-of-type {\n",
       "        vertical-align: middle;\n",
       "    }\n",
       "\n",
       "    .dataframe tbody tr th {\n",
       "        vertical-align: top;\n",
       "    }\n",
       "\n",
       "    .dataframe thead th {\n",
       "        text-align: right;\n",
       "    }\n",
       "</style>\n",
       "<table border=\"1\" class=\"dataframe\">\n",
       "  <thead>\n",
       "    <tr style=\"text-align: right;\">\n",
       "      <th></th>\n",
       "      <th>coef</th>\n",
       "      <th>std err</th>\n",
       "      <th>z</th>\n",
       "      <th>P&gt;|z|</th>\n",
       "    </tr>\n",
       "  </thead>\n",
       "  <tbody>\n",
       "    <tr>\n",
       "      <th>intercept</th>\n",
       "      <td>-10.869000</td>\n",
       "      <td>0.492000</td>\n",
       "      <td>-22.079</td>\n",
       "      <td>0.000</td>\n",
       "    </tr>\n",
       "    <tr>\n",
       "      <th>student</th>\n",
       "      <td>-0.646800</td>\n",
       "      <td>0.236000</td>\n",
       "      <td>-2.738</td>\n",
       "      <td>0.006</td>\n",
       "    </tr>\n",
       "    <tr>\n",
       "      <th>balance</th>\n",
       "      <td>0.005700</td>\n",
       "      <td>0.000000</td>\n",
       "      <td>24.737</td>\n",
       "      <td>0.000</td>\n",
       "    </tr>\n",
       "    <tr>\n",
       "      <th>income</th>\n",
       "      <td>0.000003</td>\n",
       "      <td>0.000008</td>\n",
       "      <td>0.370</td>\n",
       "      <td>0.712</td>\n",
       "    </tr>\n",
       "  </tbody>\n",
       "</table>\n",
       "</div>"
      ],
      "text/plain": [
       "                coef   std err       z  P>|z|\n",
       "intercept -10.869000  0.492000 -22.079  0.000\n",
       "student    -0.646800  0.236000  -2.738  0.006\n",
       "balance     0.005700  0.000000  24.737  0.000\n",
       "income      0.000003  0.000008   0.370  0.712"
      ]
     },
     "execution_count": 2,
     "metadata": {},
     "output_type": "execute_result"
    }
   ],
   "source": [
    "#3.2 Use the `glm()` function to perform a multiple logistic regression with \n",
    "#default as the binary response variable. Use the  `summary()` command to print the results.\n",
    "#Comment on your findings.\n",
    "import numpy as np\n",
    "from sklearn.model_selection import train_test_split\n",
    "from sklearn.preprocessing import StandardScaler\n",
    "from sklearn.linear_model import LogisticRegression\n",
    "from sklearn.metrics import classification_report, confusion_matrix\n",
    "from ISLP.models import (ModelSpec as MS, summarize)\n",
    "import statsmodels.api as sm\n",
    "\n",
    "Default['student'] = (Default['student'] == 'Yes').astype(int)\n",
    "allvars = Default.columns.drop(['default'])\n",
    "design = MS(allvars)\n",
    "X = design.fit_transform(Default)\n",
    "y = Default.default == 'Yes'\n",
    "\n",
    "X_train, X_test, y_train, y_test = train_test_split(X, y, test_size=0.2, random_state=42)\n",
    "\n",
    "glm = sm.GLM(y,\n",
    "             X,\n",
    "             family=sm.families.Binomial())\n",
    "results = glm.fit()\n",
    "\n",
    "summarize(results)"
   ]
  },
  {
   "cell_type": "code",
   "execution_count": 3,
   "id": "ed39ddf4",
   "metadata": {
    "scrolled": true
   },
   "outputs": [
    {
     "name": "stdout",
     "output_type": "stream",
     "text": [
      "Confusion Matrix:\n",
      "[[1921   10]\n",
      " [  50   19]]\n",
      "Accuracy:  0.97\n",
      "Precision:  0.6551724137931034\n",
      "Specificity:  0.9948213360952874\n",
      "False positive rate:  0.005178663904712584\n",
      "   Correct predictions  Incorrect predictions\n",
      "0                 1940                     60\n"
     ]
    }
   ],
   "source": [
    "y_pred = results.predict(X_test)\n",
    "\n",
    "threshold = 0.5\n",
    "y_pred_binary = (y_pred > threshold).astype(int)\n",
    "\n",
    "print(\"Confusion Matrix:\")\n",
    "cmatrix = confusion_matrix(y_test, y_pred_binary)\n",
    "print(cmatrix)\n",
    "\n",
    "TN = cmatrix[0, 0] #these coordinates were retrieved from help(confusion_matrix)\n",
    "FP = cmatrix[0, 1]\n",
    "FN = cmatrix[1, 0]\n",
    "TP = cmatrix[1, 1]\n",
    "\n",
    "acc = (TP + TN) / (TP + TN + FP + FN)\n",
    "prec = TP / (TP + FP)\n",
    "spec = TN / (TN + FP)\n",
    "FPR = FP / (TN + FP)\n",
    "\n",
    "print('Accuracy: ', acc)\n",
    "print('Precision: ', prec)\n",
    "print('Specificity: ', spec)\n",
    "print('False positive rate: ', FPR)\n",
    "\n",
    "print(pd.DataFrame({'Correct predictions': [TP + TN], 'Incorrect predictions': [FN + FP]}))"
   ]
  },
  {
   "cell_type": "markdown",
   "id": "844dadae",
   "metadata": {},
   "source": [
    "*Question 3* Comment on your findings: The high specificity along with a low false positive rate and middling precision is consistent with how customers default on their credit card debt infrequently (at a low rate). The model has a high accuracy, and almost nobody defaults. There are more false negatives than false positives because there are many more people who do not default, causing the model to lean towards predicting that there is no default. Increased balance means more likely to default on debt, and student status means less likely to default on debt. All the predictors are statistically significant with near-zero p-values except for income at p = 0.712, indicating that income is not a useful predictor for determining the status of credit card default. With 1940 correct predictions and 60 incorrect predictions giving a 0.97 accuracy rate, we can expect this model to perform well in its predictions."
   ]
  }
 ],
 "metadata": {
  "kernelspec": {
   "display_name": "Python 3 (ipykernel)",
   "language": "python",
   "name": "python3"
  },
  "language_info": {
   "codemirror_mode": {
    "name": "ipython",
    "version": 3
   },
   "file_extension": ".py",
   "mimetype": "text/x-python",
   "name": "python",
   "nbconvert_exporter": "python",
   "pygments_lexer": "ipython3",
   "version": "3.11.4"
  }
 },
 "nbformat": 4,
 "nbformat_minor": 5
}
